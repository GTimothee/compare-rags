{
 "cells": [
  {
   "cell_type": "code",
   "execution_count": 4,
   "metadata": {},
   "outputs": [
    {
     "data": {
      "text/plain": [
       "Dataset({\n",
       "    features: ['text', 'source'],\n",
       "    num_rows: 2647\n",
       "})"
      ]
     },
     "execution_count": 4,
     "metadata": {},
     "output_type": "execute_result"
    }
   ],
   "source": [
    "import datasets\n",
    "ds = datasets.load_dataset(\"m-ric/huggingface_doc\", split=\"train\")\n",
    "ds"
   ]
  },
  {
   "cell_type": "code",
   "execution_count": 21,
   "metadata": {},
   "outputs": [
    {
     "data": {
      "text/plain": [
       "gradio-app/gradio/blob/main/demo/json_component/run.ipynb                                  1\n",
       "huggingface/hf-endpoints-documentation/blob/main/docs/source/guides/create_endpoint.mdx    1\n",
       "huggingface/evaluate/blob/main/docs/source/choosing_a_metric.mdx                           1\n",
       "gradio-app/gradio/blob/main/guides/cn/01_getting-started/02_key-features.md                1\n",
       "huggingface/transformers/blob/main/docs/source/en/perf_train_tpu_tf.md                     1\n",
       "                                                                                          ..\n",
       "huggingface/pytorch-image-models/blob/main/hfdocs/source/models/res2net.mdx                1\n",
       "huggingface/course/blob/main/subtitles/en/raw/chapter5/03a_slice-and-dice.md               1\n",
       "gradio-app/gradio/blob/main/demo/question-answering/run.ipynb                              1\n",
       "huggingface/diffusers/blob/main/docs/source/en/api/loaders/ip_adapter.md                   1\n",
       "huggingface/peft/blob/main/docs/source/package_reference/config.md                         1\n",
       "Name: count, Length: 2647, dtype: int64"
      ]
     },
     "execution_count": 21,
     "metadata": {},
     "output_type": "execute_result"
    }
   ],
   "source": [
    "import pandas as pd\n",
    "pd.Series(ds['source']).value_counts()"
   ]
  }
 ],
 "metadata": {
  "kernelspec": {
   "display_name": ".venv",
   "language": "python",
   "name": "python3"
  },
  "language_info": {
   "codemirror_mode": {
    "name": "ipython",
    "version": 3
   },
   "file_extension": ".py",
   "mimetype": "text/x-python",
   "name": "python",
   "nbconvert_exporter": "python",
   "pygments_lexer": "ipython3",
   "version": "3.12.9"
  }
 },
 "nbformat": 4,
 "nbformat_minor": 2
}
